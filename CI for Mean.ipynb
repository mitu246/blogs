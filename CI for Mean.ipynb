{
 "cells": [
  {
   "cell_type": "code",
   "execution_count": 15,
   "id": "ec47c330",
   "metadata": {},
   "outputs": [],
   "source": [
    "import numpy as np\n",
    "import pandas as pd\n",
    "import seaborn as sns\n",
    "\n",
    "size_ = 1000\n",
    "z = np.random.normal(0,1, size_)\n",
    "df = pd.DataFrame({'Distribution': 'Standard Normal',\n",
    "     'values':z})\n",
    "# Student T dist:\n",
    "df_ls = [5,15,30]\n",
    "for df_ in df_ls:\n",
    "    values = np.random.standard_t(df_, size = size_)\n",
    "    df = pd.concat([df, pd.DataFrame({'Distribution': f\"Student T: DOF - {df_}\", 'values':values})])\n",
    "    \n",
    "    "
   ]
  },
  {
   "cell_type": "code",
   "execution_count": 16,
   "id": "d6314f0b",
   "metadata": {},
   "outputs": [
    {
     "data": {
      "text/plain": [
       "<AxesSubplot: xlabel='values', ylabel='Density'>"
      ]
     },
     "execution_count": 16,
     "metadata": {},
     "output_type": "execute_result"
    },
    {
     "data": {
      "image/png": "[encoded data removed]",
      "text/plain": [
       "<Figure size 432x288 with 1 Axes>"
      ]
     },
     "metadata": {
      "needs_background": "light"
     },
     "output_type": "display_data"
    }
   ],
   "source": [
    "sns.kdeplot(data = df, x = \"values\", hue = \"Distribution\")"
   ]
  },
  {
   "cell_type": "code",
   "execution_count": 29,
   "id": "a3133f68",
   "metadata": {},
   "outputs": [],
   "source": [
    "# Generating Revenue per User\n",
    "n = 1000\n",
    "revenue = np.random.normal(50,10,n)\n",
    "revenue = revenue[revenue > 0]\n",
    "df = pd.DataFrame({'user': [f\"user_{i}\" for i in range(n)],\n",
    "             'revenue':revenue})\n"
   ]
  },
  {
   "cell_type": "code",
   "execution_count": 30,
   "id": "4d6619ec",
   "metadata": {},
   "outputs": [
    {
     "data": {
      "text/html": [
       "<div>\n",
       "<style scoped>\n",
       "    .dataframe tbody tr th:only-of-type {\n",
       "        vertical-align: middle;\n",
       "    }\n",
       "\n",
       "    .dataframe tbody tr th {\n",
       "        vertical-align: top;\n",
       "    }\n",
       "\n",
       "    .dataframe thead th {\n",
       "        text-align: right;\n",
       "    }\n",
       "</style>\n",
       "<table border=\"1\" class=\"dataframe\">\n",
       "  <thead>\n",
       "    <tr style=\"text-align: right;\">\n",
       "      <th></th>\n",
       "      <th>user</th>\n",
       "      <th>revenue</th>\n",
       "    </tr>\n",
       "  </thead>\n",
       "  <tbody>\n",
       "    <tr>\n",
       "      <th>0</th>\n",
       "      <td>user_0</td>\n",
       "      <td>55.270576</td>\n",
       "    </tr>\n",
       "    <tr>\n",
       "      <th>1</th>\n",
       "      <td>user_1</td>\n",
       "      <td>47.314336</td>\n",
       "    </tr>\n",
       "    <tr>\n",
       "      <th>2</th>\n",
       "      <td>user_2</td>\n",
       "      <td>63.651211</td>\n",
       "    </tr>\n",
       "    <tr>\n",
       "      <th>3</th>\n",
       "      <td>user_3</td>\n",
       "      <td>41.953194</td>\n",
       "    </tr>\n",
       "    <tr>\n",
       "      <th>4</th>\n",
       "      <td>user_4</td>\n",
       "      <td>43.692976</td>\n",
       "    </tr>\n",
       "  </tbody>\n",
       "</table>\n",
       "</div>"
      ],
      "text/plain": [
       "     user    revenue\n",
       "0  user_0  55.270576\n",
       "1  user_1  47.314336\n",
       "2  user_2  63.651211\n",
       "3  user_3  41.953194\n",
       "4  user_4  43.692976"
      ]
     },
     "execution_count": 30,
     "metadata": {},
     "output_type": "execute_result"
    }
   ],
   "source": [
    "df.head()"
   ]
  },
  {
   "cell_type": "code",
   "execution_count": 47,
   "id": "43306e28",
   "metadata": {},
   "outputs": [],
   "source": [
    "# Mean and Standard Deviation of the sample:\n",
    "from scipy.stats import t\n",
    "alpha = 0.95\n",
    "n = df.shape[0]\n",
    "x_bar = df['revenue'].mean()\n",
    "s = df['revenue'].std()\n",
    "critical_value = t.ppf(alpha ,df = n - 1)\n",
    "C_I = [x_bar - critical_value*(s/np.sqrt(n)), x_bar + critical_value*(s/np.sqrt(n))]"
   ]
  },
  {
   "cell_type": "code",
   "execution_count": 51,
   "id": "72ac5d85",
   "metadata": {},
   "outputs": [
    {
     "data": {
      "text/plain": [
       "[49.51, 50.54]"
      ]
     },
     "execution_count": 51,
     "metadata": {},
     "output_type": "execute_result"
    }
   ],
   "source": [
    "[round(l, 2) for l in C_I]\n"
   ]
  }
 ],
 "metadata": {
  "kernelspec": {
   "display_name": "Python 3 (ipykernel)",
   "language": "python",
   "name": "python3"
  },
  "language_info": {
   "codemirror_mode": {
    "name": "ipython",
    "version": 3
   },
   "file_extension": ".py",
   "mimetype": "text/x-python",
   "name": "python",
   "nbconvert_exporter": "python",
   "pygments_lexer": "ipython3",
   "version": "3.9.13"
  }
 },
 "nbformat": 4,
 "nbformat_minor": 5
}
